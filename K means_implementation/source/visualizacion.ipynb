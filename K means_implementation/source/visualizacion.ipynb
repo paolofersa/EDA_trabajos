{
 "metadata": {
  "language_info": {
   "codemirror_mode": {
    "name": "ipython",
    "version": 3
   },
   "file_extension": ".py",
   "mimetype": "text/x-python",
   "name": "python",
   "nbconvert_exporter": "python",
   "pygments_lexer": "ipython3",
   "version": "3.9.5"
  },
  "orig_nbformat": 4,
  "kernelspec": {
   "name": "python3",
   "display_name": "Python 3.9.5 64-bit"
  },
  "interpreter": {
   "hash": "2647ea34e536f865ab67ff9ddee7fd78773d956cec0cab53c79b32cd10da5d83"
  }
 },
 "nbformat": 4,
 "nbformat_minor": 2,
 "cells": [
  {
   "cell_type": "code",
   "execution_count": 2,
   "metadata": {},
   "outputs": [
    {
     "output_type": "error",
     "ename": "SyntaxError",
     "evalue": "invalid syntax (<ipython-input-2-6645eab10ea8>, line 8)",
     "traceback": [
      "\u001b[1;36m  File \u001b[1;32m\"<ipython-input-2-6645eab10ea8>\"\u001b[1;36m, line \u001b[1;32m8\u001b[0m\n\u001b[1;33m    sns.scatterplot(x=df[\"longitud\"], y=df.[\"latitud\"],\u001b[0m\n\u001b[1;37m                                           ^\u001b[0m\n\u001b[1;31mSyntaxError\u001b[0m\u001b[1;31m:\u001b[0m invalid syntax\n"
     ]
    }
   ],
   "source": [
    "import matplotlib.pyplot as plt\n",
    "import pandas as pd\n",
    "import seaborn as sns\n",
    "\n",
    "plt.figure()\n",
    "df = pd.read_csv(\"../build/coordenadas.csv\")\n",
    "sns.scatterplot(x=df.longitud, y=df.latitud, \n",
    "                hue=df.agrupacion, \n",
    "                palette=sns.color_palette(\"hls\", n_colors=5))\n",
    "plt.xlabel(\"Longitud\")\n",
    "plt.ylabel(\"Latitud\")\n",
    "plt.title(\"K-means (agrupamiento)\")\n",
    "\n",
    "plt.show()"
   ]
  }
 ]
}