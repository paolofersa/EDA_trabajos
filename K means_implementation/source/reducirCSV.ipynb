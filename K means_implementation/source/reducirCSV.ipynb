{
 "metadata": {
  "language_info": {
   "codemirror_mode": {
    "name": "ipython",
    "version": 3
   },
   "file_extension": ".py",
   "mimetype": "text/x-python",
   "name": "python",
   "nbconvert_exporter": "python",
   "pygments_lexer": "ipython3",
   "version": "3.9.5"
  },
  "orig_nbformat": 4,
  "kernelspec": {
   "name": "python3",
   "display_name": "Python 3.9.5 64-bit"
  },
  "interpreter": {
   "hash": "2647ea34e536f865ab67ff9ddee7fd78773d956cec0cab53c79b32cd10da5d83"
  }
 },
 "nbformat": 4,
 "nbformat_minor": 2,
 "cells": [
  {
   "cell_type": "code",
   "execution_count": 1,
   "metadata": {},
   "outputs": [
    {
     "output_type": "stream",
     "name": "stdout",
     "text": [
      "<class 'pandas.core.frame.DataFrame'>\nRangeIndex: 500000 entries, 0 to 499999\nData columns (total 2 columns):\n #   Column     Non-Null Count   Dtype  \n---  ------     --------------   -----  \n 0   Start_Lon  500000 non-null  float64\n 1   Start_Lat  500000 non-null  float64\ndtypes: float64(2)\nmemory usage: 7.6 MB\nNone\n"
     ]
    }
   ],
   "source": [
    "import pandas as pd\n",
    "data = pd.read_csv('yellow_tripdata_2009-12.csv')\n",
    "data = data.drop([\"vendor_name\",\"Trip_Pickup_DateTime\",\"Trip_Dropoff_DateTime\",\"Passenger_Count\",\"Trip_Distance\",\"Rate_Code\",\"store_and_forward\",\"End_Lon\",\"End_Lat\",\"Payment_Type\",\"Fare_Amt\",\"surcharge\",\"mta_tax\",\"Tip_Amt\",\"Tolls_Amt\",\"Total_Amt\"], axis = 1)\n",
    "data = data.iloc[:500000,]\n",
    "print(data.info())\n",
    "data.to_csv(\"../build/datos_resumidos.csv\", index=False, encoding='utf8')"
   ]
  },
  {
   "cell_type": "code",
   "execution_count": null,
   "metadata": {},
   "outputs": [],
   "source": []
  }
 ]
}